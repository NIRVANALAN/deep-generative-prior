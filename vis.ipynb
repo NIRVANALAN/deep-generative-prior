{
 "cells": [
  {
   "cell_type": "code",
   "execution_count": 1,
   "metadata": {},
   "outputs": [],
   "source": [
    "import torch\n",
    "import numpy as np"
   ]
  },
  {
   "cell_type": "code",
   "execution_count": 4,
   "metadata": {},
   "outputs": [
    {
     "data": {
      "text/plain": [
       "tensor([0.])"
      ]
     },
     "execution_count": 4,
     "metadata": {},
     "output_type": "execute_result"
    }
   ],
   "source": [
    "y = torch.zeros(1)\n",
    "y"
   ]
  },
  {
   "cell_type": "code",
   "execution_count": 13,
   "metadata": {},
   "outputs": [
    {
     "data": {
      "text/plain": [
       "tensor([12284051.])"
      ]
     },
     "execution_count": 13,
     "metadata": {},
     "output_type": "execute_result"
    }
   ],
   "source": [
    "y.random_()"
   ]
  },
  {
   "cell_type": "code",
   "execution_count": 14,
   "metadata": {},
   "outputs": [],
   "source": [
    "# get specific class from ImageNet Val set"
   ]
  },
  {
   "cell_type": "code",
   "execution_count": 68,
   "metadata": {},
   "outputs": [],
   "source": [
    "from pathlib import Path\n",
    "base_dir = Path('/mnt/lustre/share/images')\n",
    "val_meta_list = base_dir / 'meta/' / 'val.txt'"
   ]
  },
  {
   "cell_type": "code",
   "execution_count": 40,
   "metadata": {},
   "outputs": [],
   "source": [
    "with open(val_meta_list) as val:\n",
    "    val_imgs = [item.split() for item in val.readlines()]"
   ]
  },
  {
   "cell_type": "code",
   "execution_count": 52,
   "metadata": {},
   "outputs": [],
   "source": [
    "from collections import defaultdict\n",
    "label_map_imgs = defaultdict(list)"
   ]
  },
  {
   "cell_type": "code",
   "execution_count": 57,
   "metadata": {},
   "outputs": [
    {
     "name": "stderr",
     "output_type": "stream",
     "text": [
      "100%|██████████| 50000/50000 [00:00<00:00, 893317.43it/s]\n"
     ]
    }
   ],
   "source": [
    "from tqdm import tqdm\n",
    "for pair in tqdm(val_imgs[:]):\n",
    "    label_map_imgs[int(pair[1])].append(pair[0])"
   ]
  },
  {
   "cell_type": "code",
   "execution_count": 71,
   "metadata": {},
   "outputs": [],
   "source": [
    "cars = label_map_imgs[817][:10]"
   ]
  },
  {
   "cell_type": "code",
   "execution_count": 72,
   "metadata": {},
   "outputs": [],
   "source": [
    "tgt_dir = '/mnt/lustre/yslan/Repo/Generation/deep-generative-prior/data/cars/sports'"
   ]
  },
  {
   "cell_type": "code",
   "execution_count": 73,
   "metadata": {},
   "outputs": [],
   "source": [
    "import shutil"
   ]
  },
  {
   "cell_type": "code",
   "execution_count": 74,
   "metadata": {},
   "outputs": [],
   "source": [
    "for item in cars:\n",
    "    shutil.copy(base_dir / 'val' / item, tgt_dir)"
   ]
  },
  {
   "cell_type": "code",
   "execution_count": 2,
   "metadata": {},
   "outputs": [],
   "source": [
    "import glob\n",
    "from pathlib import Path\n",
    "import os"
   ]
  },
  {
   "cell_type": "code",
   "execution_count": 9,
   "metadata": {},
   "outputs": [],
   "source": [
    "test_dir = Path('data/synthetic/5v/testset_199999/rgb')\n",
    "with open(test_dir.parent / 'inference_list_5.txt', 'w') as f:\n",
    "    for img in sorted([os.path.basename(p) for p in glob.glob(str(test_dir / '*.png'))])[::5]:\n",
    "        f.write(img+'   817\\n')"
   ]
  },
  {
   "cell_type": "code",
   "execution_count": 6,
   "metadata": {},
   "outputs": [
    {
     "data": {
      "text/plain": [
       "['data/synthetic/5v/testset_199999/rgb/019.png',\n",
       " 'data/synthetic/5v/testset_199999/rgb/063.png',\n",
       " 'data/synthetic/5v/testset_199999/rgb/220.png',\n",
       " 'data/synthetic/5v/testset_199999/rgb/059.png',\n",
       " 'data/synthetic/5v/testset_199999/rgb/158.png',\n",
       " 'data/synthetic/5v/testset_199999/rgb/228.png',\n",
       " 'data/synthetic/5v/testset_199999/rgb/001.png',\n",
       " 'data/synthetic/5v/testset_199999/rgb/156.png',\n",
       " 'data/synthetic/5v/testset_199999/rgb/031.png',\n",
       " 'data/synthetic/5v/testset_199999/rgb/193.png',\n",
       " 'data/synthetic/5v/testset_199999/rgb/163.png',\n",
       " 'data/synthetic/5v/testset_199999/rgb/105.png',\n",
       " 'data/synthetic/5v/testset_199999/rgb/122.png',\n",
       " 'data/synthetic/5v/testset_199999/rgb/167.png',\n",
       " 'data/synthetic/5v/testset_199999/rgb/137.png',\n",
       " 'data/synthetic/5v/testset_199999/rgb/154.png',\n",
       " 'data/synthetic/5v/testset_199999/rgb/214.png',\n",
       " 'data/synthetic/5v/testset_199999/rgb/024.png',\n",
       " 'data/synthetic/5v/testset_199999/rgb/050.png',\n",
       " 'data/synthetic/5v/testset_199999/rgb/152.png',\n",
       " 'data/synthetic/5v/testset_199999/rgb/216.png',\n",
       " 'data/synthetic/5v/testset_199999/rgb/180.png',\n",
       " 'data/synthetic/5v/testset_199999/rgb/056.png',\n",
       " 'data/synthetic/5v/testset_199999/rgb/014.png',\n",
       " 'data/synthetic/5v/testset_199999/rgb/176.png',\n",
       " 'data/synthetic/5v/testset_199999/rgb/139.png',\n",
       " 'data/synthetic/5v/testset_199999/rgb/040.png',\n",
       " 'data/synthetic/5v/testset_199999/rgb/065.png',\n",
       " 'data/synthetic/5v/testset_199999/rgb/007.png',\n",
       " 'data/synthetic/5v/testset_199999/rgb/178.png',\n",
       " 'data/synthetic/5v/testset_199999/rgb/106.png',\n",
       " 'data/synthetic/5v/testset_199999/rgb/123.png',\n",
       " 'data/synthetic/5v/testset_199999/rgb/027.png',\n",
       " 'data/synthetic/5v/testset_199999/rgb/077.png',\n",
       " 'data/synthetic/5v/testset_199999/rgb/124.png',\n",
       " 'data/synthetic/5v/testset_199999/rgb/002.png',\n",
       " 'data/synthetic/5v/testset_199999/rgb/082.png',\n",
       " 'data/synthetic/5v/testset_199999/rgb/116.png',\n",
       " 'data/synthetic/5v/testset_199999/rgb/090.png',\n",
       " 'data/synthetic/5v/testset_199999/rgb/138.png',\n",
       " 'data/synthetic/5v/testset_199999/rgb/005.png',\n",
       " 'data/synthetic/5v/testset_199999/rgb/186.png',\n",
       " 'data/synthetic/5v/testset_199999/rgb/121.png',\n",
       " 'data/synthetic/5v/testset_199999/rgb/043.png',\n",
       " 'data/synthetic/5v/testset_199999/rgb/224.png',\n",
       " 'data/synthetic/5v/testset_199999/rgb/118.png',\n",
       " 'data/synthetic/5v/testset_199999/rgb/197.png',\n",
       " 'data/synthetic/5v/testset_199999/rgb/086.png',\n",
       " 'data/synthetic/5v/testset_199999/rgb/036.png',\n",
       " 'data/synthetic/5v/testset_199999/rgb/113.png',\n",
       " 'data/synthetic/5v/testset_199999/rgb/147.png',\n",
       " 'data/synthetic/5v/testset_199999/rgb/069.png',\n",
       " 'data/synthetic/5v/testset_199999/rgb/130.png',\n",
       " 'data/synthetic/5v/testset_199999/rgb/203.png',\n",
       " 'data/synthetic/5v/testset_199999/rgb/034.png',\n",
       " 'data/synthetic/5v/testset_199999/rgb/244.png',\n",
       " 'data/synthetic/5v/testset_199999/rgb/213.png',\n",
       " 'data/synthetic/5v/testset_199999/rgb/129.png',\n",
       " 'data/synthetic/5v/testset_199999/rgb/120.png',\n",
       " 'data/synthetic/5v/testset_199999/rgb/064.png',\n",
       " 'data/synthetic/5v/testset_199999/rgb/226.png',\n",
       " 'data/synthetic/5v/testset_199999/rgb/048.png',\n",
       " 'data/synthetic/5v/testset_199999/rgb/227.png',\n",
       " 'data/synthetic/5v/testset_199999/rgb/209.png',\n",
       " 'data/synthetic/5v/testset_199999/rgb/134.png',\n",
       " 'data/synthetic/5v/testset_199999/rgb/033.png',\n",
       " 'data/synthetic/5v/testset_199999/rgb/093.png',\n",
       " 'data/synthetic/5v/testset_199999/rgb/168.png',\n",
       " 'data/synthetic/5v/testset_199999/rgb/095.png',\n",
       " 'data/synthetic/5v/testset_199999/rgb/165.png',\n",
       " 'data/synthetic/5v/testset_199999/rgb/194.png',\n",
       " 'data/synthetic/5v/testset_199999/rgb/085.png',\n",
       " 'data/synthetic/5v/testset_199999/rgb/068.png',\n",
       " 'data/synthetic/5v/testset_199999/rgb/181.png',\n",
       " 'data/synthetic/5v/testset_199999/rgb/004.png',\n",
       " 'data/synthetic/5v/testset_199999/rgb/080.png',\n",
       " 'data/synthetic/5v/testset_199999/rgb/022.png',\n",
       " 'data/synthetic/5v/testset_199999/rgb/053.png',\n",
       " 'data/synthetic/5v/testset_199999/rgb/047.png',\n",
       " 'data/synthetic/5v/testset_199999/rgb/143.png',\n",
       " 'data/synthetic/5v/testset_199999/rgb/102.png',\n",
       " 'data/synthetic/5v/testset_199999/rgb/062.png',\n",
       " 'data/synthetic/5v/testset_199999/rgb/125.png',\n",
       " 'data/synthetic/5v/testset_199999/rgb/149.png',\n",
       " 'data/synthetic/5v/testset_199999/rgb/051.png',\n",
       " 'data/synthetic/5v/testset_199999/rgb/199.png',\n",
       " 'data/synthetic/5v/testset_199999/rgb/087.png',\n",
       " 'data/synthetic/5v/testset_199999/rgb/174.png',\n",
       " 'data/synthetic/5v/testset_199999/rgb/153.png',\n",
       " 'data/synthetic/5v/testset_199999/rgb/020.png',\n",
       " 'data/synthetic/5v/testset_199999/rgb/017.png',\n",
       " 'data/synthetic/5v/testset_199999/rgb/146.png',\n",
       " 'data/synthetic/5v/testset_199999/rgb/217.png',\n",
       " 'data/synthetic/5v/testset_199999/rgb/078.png',\n",
       " 'data/synthetic/5v/testset_199999/rgb/109.png',\n",
       " 'data/synthetic/5v/testset_199999/rgb/038.png',\n",
       " 'data/synthetic/5v/testset_199999/rgb/210.png',\n",
       " 'data/synthetic/5v/testset_199999/rgb/159.png',\n",
       " 'data/synthetic/5v/testset_199999/rgb/042.png',\n",
       " 'data/synthetic/5v/testset_199999/rgb/140.png',\n",
       " 'data/synthetic/5v/testset_199999/rgb/081.png',\n",
       " 'data/synthetic/5v/testset_199999/rgb/249.png',\n",
       " 'data/synthetic/5v/testset_199999/rgb/003.png',\n",
       " 'data/synthetic/5v/testset_199999/rgb/119.png',\n",
       " 'data/synthetic/5v/testset_199999/rgb/073.png',\n",
       " 'data/synthetic/5v/testset_199999/rgb/195.png',\n",
       " 'data/synthetic/5v/testset_199999/rgb/164.png',\n",
       " 'data/synthetic/5v/testset_199999/rgb/198.png',\n",
       " 'data/synthetic/5v/testset_199999/rgb/021.png',\n",
       " 'data/synthetic/5v/testset_199999/rgb/079.png',\n",
       " 'data/synthetic/5v/testset_199999/rgb/084.png',\n",
       " 'data/synthetic/5v/testset_199999/rgb/117.png',\n",
       " 'data/synthetic/5v/testset_199999/rgb/187.png',\n",
       " 'data/synthetic/5v/testset_199999/rgb/049.png',\n",
       " 'data/synthetic/5v/testset_199999/rgb/144.png',\n",
       " 'data/synthetic/5v/testset_199999/rgb/141.png',\n",
       " 'data/synthetic/5v/testset_199999/rgb/225.png',\n",
       " 'data/synthetic/5v/testset_199999/rgb/169.png',\n",
       " 'data/synthetic/5v/testset_199999/rgb/173.png',\n",
       " 'data/synthetic/5v/testset_199999/rgb/067.png',\n",
       " 'data/synthetic/5v/testset_199999/rgb/114.png',\n",
       " 'data/synthetic/5v/testset_199999/rgb/155.png',\n",
       " 'data/synthetic/5v/testset_199999/rgb/023.png',\n",
       " 'data/synthetic/5v/testset_199999/rgb/131.png',\n",
       " 'data/synthetic/5v/testset_199999/rgb/241.png',\n",
       " 'data/synthetic/5v/testset_199999/rgb/250.png',\n",
       " 'data/synthetic/5v/testset_199999/rgb/218.png',\n",
       " 'data/synthetic/5v/testset_199999/rgb/044.png',\n",
       " 'data/synthetic/5v/testset_199999/rgb/013.png',\n",
       " 'data/synthetic/5v/testset_199999/rgb/161.png',\n",
       " 'data/synthetic/5v/testset_199999/rgb/192.png',\n",
       " 'data/synthetic/5v/testset_199999/rgb/208.png',\n",
       " 'data/synthetic/5v/testset_199999/rgb/205.png',\n",
       " 'data/synthetic/5v/testset_199999/rgb/115.png',\n",
       " 'data/synthetic/5v/testset_199999/rgb/016.png',\n",
       " 'data/synthetic/5v/testset_199999/rgb/066.png',\n",
       " 'data/synthetic/5v/testset_199999/rgb/061.png',\n",
       " 'data/synthetic/5v/testset_199999/rgb/150.png',\n",
       " 'data/synthetic/5v/testset_199999/rgb/170.png',\n",
       " 'data/synthetic/5v/testset_199999/rgb/091.png',\n",
       " 'data/synthetic/5v/testset_199999/rgb/055.png',\n",
       " 'data/synthetic/5v/testset_199999/rgb/196.png',\n",
       " 'data/synthetic/5v/testset_199999/rgb/245.png',\n",
       " 'data/synthetic/5v/testset_199999/rgb/083.png',\n",
       " 'data/synthetic/5v/testset_199999/rgb/238.png',\n",
       " 'data/synthetic/5v/testset_199999/rgb/070.png',\n",
       " 'data/synthetic/5v/testset_199999/rgb/136.png',\n",
       " 'data/synthetic/5v/testset_199999/rgb/204.png',\n",
       " 'data/synthetic/5v/testset_199999/rgb/041.png',\n",
       " 'data/synthetic/5v/testset_199999/rgb/175.png',\n",
       " 'data/synthetic/5v/testset_199999/rgb/025.png',\n",
       " 'data/synthetic/5v/testset_199999/rgb/151.png',\n",
       " 'data/synthetic/5v/testset_199999/rgb/157.png',\n",
       " 'data/synthetic/5v/testset_199999/rgb/135.png',\n",
       " 'data/synthetic/5v/testset_199999/rgb/072.png',\n",
       " 'data/synthetic/5v/testset_199999/rgb/058.png',\n",
       " 'data/synthetic/5v/testset_199999/rgb/039.png',\n",
       " 'data/synthetic/5v/testset_199999/rgb/104.png',\n",
       " 'data/synthetic/5v/testset_199999/rgb/242.png',\n",
       " 'data/synthetic/5v/testset_199999/rgb/239.png',\n",
       " 'data/synthetic/5v/testset_199999/rgb/098.png',\n",
       " 'data/synthetic/5v/testset_199999/rgb/100.png',\n",
       " 'data/synthetic/5v/testset_199999/rgb/076.png',\n",
       " 'data/synthetic/5v/testset_199999/rgb/243.png',\n",
       " 'data/synthetic/5v/testset_199999/rgb/000.png',\n",
       " 'data/synthetic/5v/testset_199999/rgb/030.png',\n",
       " 'data/synthetic/5v/testset_199999/rgb/089.png',\n",
       " 'data/synthetic/5v/testset_199999/rgb/094.png',\n",
       " 'data/synthetic/5v/testset_199999/rgb/172.png',\n",
       " 'data/synthetic/5v/testset_199999/rgb/111.png',\n",
       " 'data/synthetic/5v/testset_199999/rgb/177.png',\n",
       " 'data/synthetic/5v/testset_199999/rgb/142.png',\n",
       " 'data/synthetic/5v/testset_199999/rgb/185.png',\n",
       " 'data/synthetic/5v/testset_199999/rgb/012.png',\n",
       " 'data/synthetic/5v/testset_199999/rgb/237.png',\n",
       " 'data/synthetic/5v/testset_199999/rgb/032.png',\n",
       " 'data/synthetic/5v/testset_199999/rgb/235.png',\n",
       " 'data/synthetic/5v/testset_199999/rgb/037.png',\n",
       " 'data/synthetic/5v/testset_199999/rgb/052.png',\n",
       " 'data/synthetic/5v/testset_199999/rgb/182.png',\n",
       " 'data/synthetic/5v/testset_199999/rgb/202.png',\n",
       " 'data/synthetic/5v/testset_199999/rgb/074.png',\n",
       " 'data/synthetic/5v/testset_199999/rgb/010.png',\n",
       " 'data/synthetic/5v/testset_199999/rgb/188.png',\n",
       " 'data/synthetic/5v/testset_199999/rgb/211.png',\n",
       " 'data/synthetic/5v/testset_199999/rgb/045.png',\n",
       " 'data/synthetic/5v/testset_199999/rgb/166.png',\n",
       " 'data/synthetic/5v/testset_199999/rgb/183.png',\n",
       " 'data/synthetic/5v/testset_199999/rgb/189.png',\n",
       " 'data/synthetic/5v/testset_199999/rgb/060.png',\n",
       " 'data/synthetic/5v/testset_199999/rgb/097.png',\n",
       " 'data/synthetic/5v/testset_199999/rgb/132.png',\n",
       " 'data/synthetic/5v/testset_199999/rgb/101.png',\n",
       " 'data/synthetic/5v/testset_199999/rgb/221.png',\n",
       " 'data/synthetic/5v/testset_199999/rgb/099.png',\n",
       " 'data/synthetic/5v/testset_199999/rgb/171.png',\n",
       " 'data/synthetic/5v/testset_199999/rgb/246.png',\n",
       " 'data/synthetic/5v/testset_199999/rgb/057.png',\n",
       " 'data/synthetic/5v/testset_199999/rgb/247.png',\n",
       " 'data/synthetic/5v/testset_199999/rgb/028.png',\n",
       " 'data/synthetic/5v/testset_199999/rgb/184.png',\n",
       " 'data/synthetic/5v/testset_199999/rgb/071.png',\n",
       " 'data/synthetic/5v/testset_199999/rgb/230.png',\n",
       " 'data/synthetic/5v/testset_199999/rgb/126.png',\n",
       " 'data/synthetic/5v/testset_199999/rgb/232.png',\n",
       " 'data/synthetic/5v/testset_199999/rgb/026.png',\n",
       " 'data/synthetic/5v/testset_199999/rgb/054.png',\n",
       " 'data/synthetic/5v/testset_199999/rgb/162.png',\n",
       " 'data/synthetic/5v/testset_199999/rgb/128.png',\n",
       " 'data/synthetic/5v/testset_199999/rgb/223.png',\n",
       " 'data/synthetic/5v/testset_199999/rgb/233.png',\n",
       " 'data/synthetic/5v/testset_199999/rgb/088.png',\n",
       " 'data/synthetic/5v/testset_199999/rgb/160.png',\n",
       " 'data/synthetic/5v/testset_199999/rgb/200.png',\n",
       " 'data/synthetic/5v/testset_199999/rgb/107.png',\n",
       " 'data/synthetic/5v/testset_199999/rgb/006.png',\n",
       " 'data/synthetic/5v/testset_199999/rgb/092.png',\n",
       " 'data/synthetic/5v/testset_199999/rgb/207.png',\n",
       " 'data/synthetic/5v/testset_199999/rgb/240.png',\n",
       " 'data/synthetic/5v/testset_199999/rgb/008.png',\n",
       " 'data/synthetic/5v/testset_199999/rgb/018.png',\n",
       " 'data/synthetic/5v/testset_199999/rgb/103.png',\n",
       " 'data/synthetic/5v/testset_199999/rgb/231.png',\n",
       " 'data/synthetic/5v/testset_199999/rgb/234.png',\n",
       " 'data/synthetic/5v/testset_199999/rgb/009.png',\n",
       " 'data/synthetic/5v/testset_199999/rgb/035.png',\n",
       " 'data/synthetic/5v/testset_199999/rgb/127.png',\n",
       " 'data/synthetic/5v/testset_199999/rgb/075.png',\n",
       " 'data/synthetic/5v/testset_199999/rgb/011.png',\n",
       " 'data/synthetic/5v/testset_199999/rgb/096.png',\n",
       " 'data/synthetic/5v/testset_199999/rgb/191.png',\n",
       " 'data/synthetic/5v/testset_199999/rgb/236.png',\n",
       " 'data/synthetic/5v/testset_199999/rgb/108.png',\n",
       " 'data/synthetic/5v/testset_199999/rgb/190.png',\n",
       " 'data/synthetic/5v/testset_199999/rgb/201.png',\n",
       " 'data/synthetic/5v/testset_199999/rgb/212.png',\n",
       " 'data/synthetic/5v/testset_199999/rgb/229.png',\n",
       " 'data/synthetic/5v/testset_199999/rgb/015.png',\n",
       " 'data/synthetic/5v/testset_199999/rgb/029.png',\n",
       " 'data/synthetic/5v/testset_199999/rgb/145.png',\n",
       " 'data/synthetic/5v/testset_199999/rgb/219.png',\n",
       " 'data/synthetic/5v/testset_199999/rgb/179.png',\n",
       " 'data/synthetic/5v/testset_199999/rgb/133.png',\n",
       " 'data/synthetic/5v/testset_199999/rgb/206.png',\n",
       " 'data/synthetic/5v/testset_199999/rgb/248.png',\n",
       " 'data/synthetic/5v/testset_199999/rgb/110.png',\n",
       " 'data/synthetic/5v/testset_199999/rgb/222.png',\n",
       " 'data/synthetic/5v/testset_199999/rgb/046.png',\n",
       " 'data/synthetic/5v/testset_199999/rgb/112.png',\n",
       " 'data/synthetic/5v/testset_199999/rgb/215.png',\n",
       " 'data/synthetic/5v/testset_199999/rgb/148.png']"
      ]
     },
     "execution_count": 6,
     "metadata": {},
     "output_type": "execute_result"
    }
   ],
   "source": [
    "glob.glob(str(test_dir / '*.png'))"
   ]
  },
  {
   "cell_type": "code",
   "execution_count": null,
   "metadata": {},
   "outputs": [],
   "source": []
  }
 ],
 "metadata": {
  "kernelspec": {
   "display_name": "Python 3",
   "language": "python",
   "name": "python3"
  },
  "language_info": {
   "codemirror_mode": {
    "name": "ipython",
    "version": 3
   },
   "file_extension": ".py",
   "mimetype": "text/x-python",
   "name": "python",
   "nbconvert_exporter": "python",
   "pygments_lexer": "ipython3",
   "version": "3.8.3"
  }
 },
 "nbformat": 4,
 "nbformat_minor": 4
}

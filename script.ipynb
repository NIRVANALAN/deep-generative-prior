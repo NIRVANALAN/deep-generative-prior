{
 "cells": [
  {
   "cell_type": "code",
   "execution_count": 1,
   "metadata": {},
   "outputs": [],
   "source": [
    "import torch\n",
    "import numpy as np"
   ]
  },
  {
   "cell_type": "code",
   "execution_count": 4,
   "metadata": {},
   "outputs": [
    {
     "data": {
      "text/plain": [
       "tensor([0.])"
      ]
     },
     "execution_count": 4,
     "metadata": {},
     "output_type": "execute_result"
    }
   ],
   "source": [
    "y = torch.zeros(1)\n",
    "y"
   ]
  },
  {
   "cell_type": "code",
   "execution_count": 13,
   "metadata": {},
   "outputs": [
    {
     "data": {
      "text/plain": [
       "tensor([12284051.])"
      ]
     },
     "execution_count": 13,
     "metadata": {},
     "output_type": "execute_result"
    }
   ],
   "source": [
    "y.random_()"
   ]
  },
  {
   "cell_type": "code",
   "execution_count": 14,
   "metadata": {},
   "outputs": [],
   "source": [
    "# get specific class from ImageNet Val set"
   ]
  },
  {
   "cell_type": "code",
   "execution_count": 68,
   "metadata": {},
   "outputs": [],
   "source": [
    "from pathlib import Path\n",
    "base_dir = Path('/mnt/lustre/share/images')\n",
    "val_meta_list = base_dir / 'meta/' / 'val.txt'"
   ]
  },
  {
   "cell_type": "code",
   "execution_count": 40,
   "metadata": {},
   "outputs": [],
   "source": [
    "with open(val_meta_list) as val:\n",
    "    val_imgs = [item.split() for item in val.readlines()]"
   ]
  },
  {
   "cell_type": "code",
   "execution_count": 52,
   "metadata": {},
   "outputs": [],
   "source": [
    "from collections import defaultdict\n",
    "label_map_imgs = defaultdict(list)"
   ]
  },
  {
   "cell_type": "code",
   "execution_count": 57,
   "metadata": {},
   "outputs": [
    {
     "name": "stderr",
     "output_type": "stream",
     "text": [
      "100%|██████████| 50000/50000 [00:00<00:00, 893317.43it/s]\n"
     ]
    }
   ],
   "source": [
    "from tqdm import tqdm\n",
    "for pair in tqdm(val_imgs[:]):\n",
    "    label_map_imgs[int(pair[1])].append(pair[0])"
   ]
  },
  {
   "cell_type": "code",
   "execution_count": 71,
   "metadata": {},
   "outputs": [],
   "source": [
    "cars = label_map_imgs[817][:10]"
   ]
  },
  {
   "cell_type": "code",
   "execution_count": 72,
   "metadata": {},
   "outputs": [],
   "source": [
    "tgt_dir = '/mnt/lustre/yslan/Repo/Generation/deep-generative-prior/data/cars/sports'"
   ]
  },
  {
   "cell_type": "code",
   "execution_count": 73,
   "metadata": {},
   "outputs": [],
   "source": [
    "import shutil"
   ]
  },
  {
   "cell_type": "code",
   "execution_count": 74,
   "metadata": {},
   "outputs": [],
   "source": [
    "for item in cars:\n",
    "    shutil.copy(base_dir / 'val' / item, tgt_dir)"
   ]
  },
  {
   "cell_type": "markdown",
   "metadata": {},
   "source": [
    "## change pretrained model weights"
   ]
  },
  {
   "cell_type": "code",
   "execution_count": 46,
   "metadata": {},
   "outputs": [],
   "source": [
    "import torch\n",
    "from collections import OrderedDict\n",
    "\n",
    "def key_transformation_stylegan_d(key):\n",
    "    if key.startswith('conv_body'):\n",
    "        return key.replace('conv_body', 'convs')\n",
    "    return key\n",
    "\n",
    "def key_transformation_stylegan_g(key):\n",
    "    if key.startswith('style_mlp'):\n",
    "        return key.replace('style_mlp', 'style')\n",
    "    if key.startswith('style_convs'):\n",
    "        return key.replace('style_convs', 'convs')\n",
    "    if key.startswith('style_conv1'):\n",
    "        return key.replace('style_conv1', 'conv1')\n",
    "    return key\n",
    "\n",
    "def rename_state_dict_keys(state_dict, key_transformation, target=None):\n",
    "    \"\"\"\n",
    "    source             -> loaded Source dict \n",
    "    key_transformation -> Function that accepts the old key names of the state\n",
    "                          dict as the only argument and returns the new key name.\n",
    "    target (optional)  -> Path at which the new state dict should be saved\n",
    "                          (defaults to `source`)\n",
    "    Example:\n",
    "    Rename the key `layer.0.weight` `layer.1.weight` and keep the names of all\n",
    "    other keys.\n",
    "    ```py\n",
    "    def key_transformation(old_key):\n",
    "        if old_key == \"layer.0.weight\":\n",
    "            return \"layer.1.weight\"\n",
    "        return old_key\n",
    "    rename_state_dict_keys(state_dict_path, key_transformation)\n",
    "    ```\n",
    "    \"\"\"\n",
    "  \n",
    "#     state_dict = torch.load(source)\n",
    "    new_state_dict = OrderedDict()\n",
    "\n",
    "    for key, value in state_dict.items():\n",
    "        new_key = key_transformation(key)\n",
    "        new_state_dict[new_key] = value\n",
    "\n",
    "    torch.save(new_state_dict, target)\n"
   ]
  },
  {
   "cell_type": "code",
   "execution_count": 47,
   "metadata": {},
   "outputs": [],
   "source": [
    "import torch\n",
    "stylegan_g = '/mnt/lustre/yslan/Repo/NVS/Projects/Generative/stylegan2-pytorch/checkpoint/pretrained/stylegan2_car_config_f_512_official-e8fcab4f.pth'\n",
    "\n",
    "d = '/mnt/lustre/yslan/Repo/NVS/Projects/Generative/stylegan2-pytorch/checkpoint/pretrained/stylegan2_car_config_f_512_discriminator_official-5008e3d1.pth'\n",
    "d = torch.load(d)"
   ]
  },
  {
   "cell_type": "code",
   "execution_count": 54,
   "metadata": {},
   "outputs": [
    {
     "data": {
      "text/plain": [
       "odict_keys(['style.1.weight', 'style.1.bias', 'style.2.weight', 'style.2.bias', 'style.3.weight', 'style.3.bias', 'style.4.weight', 'style.4.bias', 'style.5.weight', 'style.5.bias', 'style.6.weight', 'style.6.bias', 'style.7.weight', 'style.7.bias', 'style.8.weight', 'style.8.bias', 'constant_input.weight', 'conv1.weight', 'conv1.modulated_conv.weight', 'conv1.modulated_conv.modulation.weight', 'conv1.modulated_conv.modulation.bias', 'conv1.activate.bias', 'to_rgb1.bias', 'to_rgb1.modulated_conv.weight', 'to_rgb1.modulated_conv.modulation.weight', 'to_rgb1.modulated_conv.modulation.bias', 'convs.0.weight', 'convs.0.modulated_conv.weight', 'convs.0.modulated_conv.modulation.weight', 'convs.0.modulated_conv.modulation.bias', 'convs.0.activate.bias', 'convs.1.weight', 'convs.1.modulated_conv.weight', 'convs.1.modulated_conv.modulation.weight', 'convs.1.modulated_conv.modulation.bias', 'convs.1.activate.bias', 'convs.2.weight', 'convs.2.modulated_conv.weight', 'convs.2.modulated_conv.modulation.weight', 'convs.2.modulated_conv.modulation.bias', 'convs.2.activate.bias', 'convs.3.weight', 'convs.3.modulated_conv.weight', 'convs.3.modulated_conv.modulation.weight', 'convs.3.modulated_conv.modulation.bias', 'convs.3.activate.bias', 'convs.4.weight', 'convs.4.modulated_conv.weight', 'convs.4.modulated_conv.modulation.weight', 'convs.4.modulated_conv.modulation.bias', 'convs.4.activate.bias', 'convs.5.weight', 'convs.5.modulated_conv.weight', 'convs.5.modulated_conv.modulation.weight', 'convs.5.modulated_conv.modulation.bias', 'convs.5.activate.bias', 'convs.6.weight', 'convs.6.modulated_conv.weight', 'convs.6.modulated_conv.modulation.weight', 'convs.6.modulated_conv.modulation.bias', 'convs.6.activate.bias', 'convs.7.weight', 'convs.7.modulated_conv.weight', 'convs.7.modulated_conv.modulation.weight', 'convs.7.modulated_conv.modulation.bias', 'convs.7.activate.bias', 'convs.8.weight', 'convs.8.modulated_conv.weight', 'convs.8.modulated_conv.modulation.weight', 'convs.8.modulated_conv.modulation.bias', 'convs.8.activate.bias', 'convs.9.weight', 'convs.9.modulated_conv.weight', 'convs.9.modulated_conv.modulation.weight', 'convs.9.modulated_conv.modulation.bias', 'convs.9.activate.bias', 'convs.10.weight', 'convs.10.modulated_conv.weight', 'convs.10.modulated_conv.modulation.weight', 'convs.10.modulated_conv.modulation.bias', 'convs.10.activate.bias', 'convs.11.weight', 'convs.11.modulated_conv.weight', 'convs.11.modulated_conv.modulation.weight', 'convs.11.modulated_conv.modulation.bias', 'convs.11.activate.bias', 'convs.12.weight', 'convs.12.modulated_conv.weight', 'convs.12.modulated_conv.modulation.weight', 'convs.12.modulated_conv.modulation.bias', 'convs.12.activate.bias', 'convs.13.weight', 'convs.13.modulated_conv.weight', 'convs.13.modulated_conv.modulation.weight', 'convs.13.modulated_conv.modulation.bias', 'convs.13.activate.bias', 'to_rgbs.0.bias', 'to_rgbs.0.modulated_conv.weight', 'to_rgbs.0.modulated_conv.modulation.weight', 'to_rgbs.0.modulated_conv.modulation.bias', 'to_rgbs.1.bias', 'to_rgbs.1.modulated_conv.weight', 'to_rgbs.1.modulated_conv.modulation.weight', 'to_rgbs.1.modulated_conv.modulation.bias', 'to_rgbs.2.bias', 'to_rgbs.2.modulated_conv.weight', 'to_rgbs.2.modulated_conv.modulation.weight', 'to_rgbs.2.modulated_conv.modulation.bias', 'to_rgbs.3.bias', 'to_rgbs.3.modulated_conv.weight', 'to_rgbs.3.modulated_conv.modulation.weight', 'to_rgbs.3.modulated_conv.modulation.bias', 'to_rgbs.4.bias', 'to_rgbs.4.modulated_conv.weight', 'to_rgbs.4.modulated_conv.modulation.weight', 'to_rgbs.4.modulated_conv.modulation.bias', 'to_rgbs.5.bias', 'to_rgbs.5.modulated_conv.weight', 'to_rgbs.5.modulated_conv.modulation.weight', 'to_rgbs.5.modulated_conv.modulation.bias', 'to_rgbs.6.bias', 'to_rgbs.6.modulated_conv.weight', 'to_rgbs.6.modulated_conv.modulation.weight', 'to_rgbs.6.modulated_conv.modulation.bias', 'noises.noise0', 'noises.noise1', 'noises.noise2', 'noises.noise3', 'noises.noise4', 'noises.noise5', 'noises.noise6', 'noises.noise7', 'noises.noise8', 'noises.noise9', 'noises.noise10', 'noises.noise11', 'noises.noise12', 'noises.noise13', 'noises.noise14'])"
      ]
     },
     "execution_count": 54,
     "metadata": {},
     "output_type": "execute_result"
    }
   ],
   "source": [
    "# stylegan_g = torch.load(stylegan_g)['params_ema']\n",
    "stylegan_g = torch.load('./pretrained/stylegan2/stylegan2_car_512_g.pth')\n",
    "stylegan_g.keys()"
   ]
  },
  {
   "cell_type": "code",
   "execution_count": 52,
   "metadata": {},
   "outputs": [],
   "source": [
    "rename_state_dict_keys(stylegan_g, key_transformation_stylegan_g, 'stylegan2_car_512_g.pth')\n",
    "# rename_state_dict_keys(d, key_transformation_stylegan_d, 'stylegan2_car_512_d.pth')"
   ]
  },
  {
   "cell_type": "code",
   "execution_count": 6,
   "metadata": {},
   "outputs": [],
   "source": [
    "from collections import OrderedDict"
   ]
  },
  {
   "cell_type": "code",
   "execution_count": 34,
   "metadata": {},
   "outputs": [],
   "source": [
    "# stylegan_g"
   ]
  },
  {
   "cell_type": "code",
   "execution_count": 29,
   "metadata": {},
   "outputs": [
    {
     "ename": "TypeError",
     "evalue": "'odict_keys' object is not subscriptable",
     "output_type": "error",
     "traceback": [
      "\u001b[0;31m---------------------------------------------------------------------------\u001b[0m",
      "\u001b[0;31mTypeError\u001b[0m                                 Traceback (most recent call last)",
      "\u001b[0;32m<ipython-input-29-c0c78e257439>\u001b[0m in \u001b[0;36m<module>\u001b[0;34m\u001b[0m\n\u001b[1;32m      1\u001b[0m \u001b[0;32mfor\u001b[0m \u001b[0mkey\u001b[0m \u001b[0;32min\u001b[0m \u001b[0mparams\u001b[0m\u001b[0;34m:\u001b[0m\u001b[0;34m\u001b[0m\u001b[0;34m\u001b[0m\u001b[0m\n\u001b[1;32m      2\u001b[0m     \u001b[0;31m#     if key.startswith('style_mlp'):\u001b[0m\u001b[0;34m\u001b[0m\u001b[0;34m\u001b[0m\u001b[0;34m\u001b[0m\u001b[0m\n\u001b[0;32m----> 3\u001b[0;31m         \u001b[0mparams\u001b[0m\u001b[0;34m[\u001b[0m\u001b[0mkey\u001b[0m\u001b[0;34m.\u001b[0m\u001b[0mreplace\u001b[0m\u001b[0;34m(\u001b[0m\u001b[0;34m'style_mlp'\u001b[0m\u001b[0;34m,\u001b[0m \u001b[0;34m'style'\u001b[0m\u001b[0;34m)\u001b[0m\u001b[0;34m]\u001b[0m \u001b[0;34m=\u001b[0m \u001b[0mparams\u001b[0m\u001b[0;34m[\u001b[0m\u001b[0mkey\u001b[0m\u001b[0;34m]\u001b[0m\u001b[0;34m\u001b[0m\u001b[0;34m\u001b[0m\u001b[0m\n\u001b[0m\u001b[1;32m      4\u001b[0m     \u001b[0;31m#     if key.startswith('style_convs'):\u001b[0m\u001b[0;34m\u001b[0m\u001b[0;34m\u001b[0m\u001b[0;34m\u001b[0m\u001b[0m\n\u001b[1;32m      5\u001b[0m         \u001b[0mparams\u001b[0m\u001b[0;34m[\u001b[0m\u001b[0mkey\u001b[0m\u001b[0;34m.\u001b[0m\u001b[0mreplace\u001b[0m\u001b[0;34m(\u001b[0m\u001b[0;34m'style_convs'\u001b[0m\u001b[0;34m,\u001b[0m \u001b[0;34m'convs'\u001b[0m\u001b[0;34m)\u001b[0m\u001b[0;34m]\u001b[0m\u001b[0;34m=\u001b[0m \u001b[0mparams\u001b[0m\u001b[0;34m[\u001b[0m\u001b[0mkey\u001b[0m\u001b[0;34m]\u001b[0m\u001b[0;34m\u001b[0m\u001b[0;34m\u001b[0m\u001b[0m\n",
      "\u001b[0;31mTypeError\u001b[0m: 'odict_keys' object is not subscriptable"
     ]
    }
   ],
   "source": []
  },
  {
   "cell_type": "markdown",
   "metadata": {},
   "source": [
    "* style_mlp -> style\n",
    "* style_conv -> convs\n",
    "* style_conv1 -> conv1"
   ]
  },
  {
   "cell_type": "code",
   "execution_count": 21,
   "metadata": {},
   "outputs": [],
   "source": []
  },
  {
   "cell_type": "code",
   "execution_count": 23,
   "metadata": {},
   "outputs": [
    {
     "data": {
      "text/plain": [
       "dict_keys(['params'])"
      ]
     },
     "execution_count": 23,
     "metadata": {},
     "output_type": "execute_result"
    }
   ],
   "source": [
    "s"
   ]
  },
  {
   "cell_type": "code",
   "execution_count": 28,
   "metadata": {},
   "outputs": [
    {
     "data": {
      "text/plain": [
       "torch.Size([1, 4])"
      ]
     },
     "execution_count": 28,
     "metadata": {},
     "output_type": "execute_result"
    }
   ],
   "source": [
    "\n",
    "torch.rand((3,4))[:,None][0].shape"
   ]
  },
  {
   "cell_type": "code",
   "execution_count": null,
   "metadata": {},
   "outputs": [],
   "source": []
  }
 ],
 "metadata": {
  "kernelspec": {
   "display_name": "Python 3",
   "language": "python",
   "name": "python3"
  },
  "language_info": {
   "codemirror_mode": {
    "name": "ipython",
    "version": 3
   },
   "file_extension": ".py",
   "mimetype": "text/x-python",
   "name": "python",
   "nbconvert_exporter": "python",
   "pygments_lexer": "ipython3",
   "version": "3.8.3"
  }
 },
 "nbformat": 4,
 "nbformat_minor": 4
}
